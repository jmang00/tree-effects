{
 "cells": [
  {
   "cell_type": "markdown",
   "metadata": {},
   "source": [
    "[Matt Parker video](https://www.youtube.com/watch?v=WuMRJf6B5Q4&ab_channel=Stand-upMaths)\n",
    "\n",
    "https://www.geogebra.org/m/p2pdz6v2"
   ]
  },
  {
   "cell_type": "code",
   "execution_count": null,
   "metadata": {},
   "outputs": [],
   "source": []
  }
 ],
 "metadata": {
  "language_info": {
   "name": "python"
  },
  "orig_nbformat": 4
 },
 "nbformat": 4,
 "nbformat_minor": 2
}
